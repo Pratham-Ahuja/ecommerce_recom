{
 "cells": [
  {
   "cell_type": "code",
   "execution_count": 1,
   "id": "3af0ab72",
   "metadata": {
    "_kg_hide-output": true,
    "execution": {
     "iopub.execute_input": "2024-02-23T14:09:05.874053Z",
     "iopub.status.busy": "2024-02-23T14:09:05.873634Z",
     "iopub.status.idle": "2024-02-23T14:09:18.502383Z",
     "shell.execute_reply": "2024-02-23T14:09:18.501171Z"
    },
    "papermill": {
     "duration": 12.642068,
     "end_time": "2024-02-23T14:09:18.504699",
     "exception": false,
     "start_time": "2024-02-23T14:09:05.862631",
     "status": "completed"
    },
    "tags": []
   },
   "outputs": [
    {
     "name": "stdout",
     "output_type": "stream",
     "text": [
      "Collecting faker\r\n",
      "  Downloading Faker-23.2.1-py3-none-any.whl.metadata (15 kB)\r\n",
      "Requirement already satisfied: python-dateutil>=2.4 in /opt/conda/lib/python3.10/site-packages (from faker) (2.8.2)\r\n",
      "Requirement already satisfied: six>=1.5 in /opt/conda/lib/python3.10/site-packages (from python-dateutil>=2.4->faker) (1.16.0)\r\n",
      "Downloading Faker-23.2.1-py3-none-any.whl (1.7 MB)\r\n",
      "\u001b[2K   \u001b[90m━━━━━━━━━━━━━━━━━━━━━━━━━━━━━━━━━━━━━━━━\u001b[0m \u001b[32m1.7/1.7 MB\u001b[0m \u001b[31m30.2 MB/s\u001b[0m eta \u001b[36m0:00:00\u001b[0m\r\n",
      "\u001b[?25hInstalling collected packages: faker\r\n",
      "Successfully installed faker-23.2.1\r\n"
     ]
    }
   ],
   "source": [
    "!pip install faker"
   ]
  },
  {
   "cell_type": "code",
   "execution_count": 2,
   "id": "70f5bcf2",
   "metadata": {
    "execution": {
     "iopub.execute_input": "2024-02-23T14:09:18.524034Z",
     "iopub.status.busy": "2024-02-23T14:09:18.523747Z",
     "iopub.status.idle": "2024-02-23T14:09:19.394742Z",
     "shell.execute_reply": "2024-02-23T14:09:19.393479Z"
    },
    "papermill": {
     "duration": 0.8835,
     "end_time": "2024-02-23T14:09:19.397340",
     "exception": false,
     "start_time": "2024-02-23T14:09:18.513840",
     "status": "completed"
    },
    "tags": []
   },
   "outputs": [],
   "source": [
    "from faker import Faker\n",
    "import pandas as pd\n",
    "import random\n",
    "import numpy as np\n",
    "import matplotlib.pyplot as plt"
   ]
  },
  {
   "cell_type": "code",
   "execution_count": 3,
   "id": "481105ca",
   "metadata": {
    "execution": {
     "iopub.execute_input": "2024-02-23T14:09:19.416444Z",
     "iopub.status.busy": "2024-02-23T14:09:19.415986Z",
     "iopub.status.idle": "2024-02-23T14:09:19.448726Z",
     "shell.execute_reply": "2024-02-23T14:09:19.447605Z"
    },
    "papermill": {
     "duration": 0.045009,
     "end_time": "2024-02-23T14:09:19.451271",
     "exception": false,
     "start_time": "2024-02-23T14:09:19.406262",
     "status": "completed"
    },
    "tags": []
   },
   "outputs": [],
   "source": [
    "# Initialize Faker to generate synthetic data\n",
    "fake = Faker()"
   ]
  },
  {
   "cell_type": "code",
   "execution_count": 4,
   "id": "08fd53d7",
   "metadata": {
    "execution": {
     "iopub.execute_input": "2024-02-23T14:09:19.471991Z",
     "iopub.status.busy": "2024-02-23T14:09:19.471645Z",
     "iopub.status.idle": "2024-02-23T14:09:19.476967Z",
     "shell.execute_reply": "2024-02-23T14:09:19.476292Z"
    },
    "papermill": {
     "duration": 0.017993,
     "end_time": "2024-02-23T14:09:19.478489",
     "exception": false,
     "start_time": "2024-02-23T14:09:19.460496",
     "status": "completed"
    },
    "tags": []
   },
   "outputs": [],
   "source": [
    "# Generate synthetic sales data\n",
    "def generate_sales_data(num_records):\n",
    "    sales_data = []\n",
    "    for _ in range(num_records):\n",
    "        customer_name = fake.name()\n",
    "        product_name = fake.word()\n",
    "        quantity = random.randint(1, 10)\n",
    "        price = round(random.uniform(10, 1000), 2)\n",
    "        date = fake.date_between(start_date='-1y', end_date='today')\n",
    "        sales_data.append([customer_name, product_name, quantity, price, date])\n",
    "    return sales_data"
   ]
  },
  {
   "cell_type": "code",
   "execution_count": 5,
   "id": "bb11e34d",
   "metadata": {
    "execution": {
     "iopub.execute_input": "2024-02-23T14:09:19.497347Z",
     "iopub.status.busy": "2024-02-23T14:09:19.496708Z",
     "iopub.status.idle": "2024-02-23T14:09:19.501227Z",
     "shell.execute_reply": "2024-02-23T14:09:19.500687Z"
    },
    "papermill": {
     "duration": 0.016139,
     "end_time": "2024-02-23T14:09:19.503372",
     "exception": false,
     "start_time": "2024-02-23T14:09:19.487233",
     "status": "completed"
    },
    "tags": []
   },
   "outputs": [],
   "source": [
    "# Generate synthetic customer data\n",
    "def generate_customer_data(num_customers):\n",
    "    customer_data = []\n",
    "    for _ in range(num_customers):\n",
    "        customer_name = fake.name()\n",
    "        age = random.randint(18, 70)\n",
    "        gender = random.choice(['Male', 'Female'])\n",
    "        email = fake.email()\n",
    "        address = fake.address()\n",
    "        customer_data.append([customer_name, age, gender, email, address])\n",
    "    return customer_data"
   ]
  },
  {
   "cell_type": "code",
   "execution_count": 6,
   "id": "9d40d491",
   "metadata": {
    "execution": {
     "iopub.execute_input": "2024-02-23T14:09:19.522198Z",
     "iopub.status.busy": "2024-02-23T14:09:19.521938Z",
     "iopub.status.idle": "2024-02-23T14:09:19.527200Z",
     "shell.execute_reply": "2024-02-23T14:09:19.526236Z"
    },
    "papermill": {
     "duration": 0.016529,
     "end_time": "2024-02-23T14:09:19.528947",
     "exception": false,
     "start_time": "2024-02-23T14:09:19.512418",
     "status": "completed"
    },
    "tags": []
   },
   "outputs": [],
   "source": [
    "# Generate synthetic product data\n",
    "def generate_product_data(num_products):\n",
    "    product_data = []\n",
    "    for _ in range(num_products):\n",
    "        product_name = fake.word()\n",
    "        category = fake.word()\n",
    "        price = round(random.uniform(10, 1000), 2)\n",
    "        product_data.append([product_name, category, price])\n",
    "    return product_data"
   ]
  },
  {
   "cell_type": "code",
   "execution_count": 7,
   "id": "9c7f83b3",
   "metadata": {
    "execution": {
     "iopub.execute_input": "2024-02-23T14:09:19.548112Z",
     "iopub.status.busy": "2024-02-23T14:09:19.547499Z",
     "iopub.status.idle": "2024-02-23T14:09:19.551658Z",
     "shell.execute_reply": "2024-02-23T14:09:19.550645Z"
    },
    "papermill": {
     "duration": 0.01563,
     "end_time": "2024-02-23T14:09:19.553264",
     "exception": false,
     "start_time": "2024-02-23T14:09:19.537634",
     "status": "completed"
    },
    "tags": []
   },
   "outputs": [],
   "source": [
    "# Generate synthetic sales, customer, and product data\n",
    "num_sales_records = 1000\n",
    "num_customers = 200\n",
    "num_products = 50"
   ]
  },
  {
   "cell_type": "code",
   "execution_count": 8,
   "id": "e2f659b5",
   "metadata": {
    "execution": {
     "iopub.execute_input": "2024-02-23T14:09:19.573413Z",
     "iopub.status.busy": "2024-02-23T14:09:19.572938Z",
     "iopub.status.idle": "2024-02-23T14:09:19.898356Z",
     "shell.execute_reply": "2024-02-23T14:09:19.897498Z"
    },
    "papermill": {
     "duration": 0.33873,
     "end_time": "2024-02-23T14:09:19.900594",
     "exception": false,
     "start_time": "2024-02-23T14:09:19.561864",
     "status": "completed"
    },
    "tags": []
   },
   "outputs": [],
   "source": [
    "sales_data = generate_sales_data(num_sales_records)\n",
    "customer_data = generate_customer_data(num_customers)\n",
    "product_data = generate_product_data(num_products)"
   ]
  },
  {
   "cell_type": "code",
   "execution_count": 9,
   "id": "2bd168f2",
   "metadata": {
    "execution": {
     "iopub.execute_input": "2024-02-23T14:09:19.920546Z",
     "iopub.status.busy": "2024-02-23T14:09:19.920186Z",
     "iopub.status.idle": "2024-02-23T14:09:19.930880Z",
     "shell.execute_reply": "2024-02-23T14:09:19.929918Z"
    },
    "papermill": {
     "duration": 0.022868,
     "end_time": "2024-02-23T14:09:19.932785",
     "exception": false,
     "start_time": "2024-02-23T14:09:19.909917",
     "status": "completed"
    },
    "tags": []
   },
   "outputs": [],
   "source": [
    "# Convert data to pandas DataFrame\n",
    "sales_df = pd.DataFrame(sales_data, columns=['Customer Name', 'Product Name', 'Quantity', 'Price', 'Date'])\n",
    "customer_df = pd.DataFrame(customer_data, columns=['Customer Name', 'Age', 'Gender', 'Email', 'Address'])\n",
    "product_df = pd.DataFrame(product_data, columns=['Product Name', 'Category', 'Price'])"
   ]
  },
  {
   "cell_type": "code",
   "execution_count": 10,
   "id": "3a3fd948",
   "metadata": {
    "execution": {
     "iopub.execute_input": "2024-02-23T14:09:19.952128Z",
     "iopub.status.busy": "2024-02-23T14:09:19.951766Z",
     "iopub.status.idle": "2024-02-23T14:09:19.967450Z",
     "shell.execute_reply": "2024-02-23T14:09:19.966558Z"
    },
    "papermill": {
     "duration": 0.027568,
     "end_time": "2024-02-23T14:09:19.969316",
     "exception": false,
     "start_time": "2024-02-23T14:09:19.941748",
     "status": "completed"
    },
    "tags": []
   },
   "outputs": [],
   "source": [
    "# Example of saving data to CSV files\n",
    "sales_df.to_csv('sales_data.csv', index=False)\n",
    "customer_df.to_csv('customer_data.csv', index=False)\n",
    "product_df.to_csv('product_data.csv', index=False)"
   ]
  },
  {
   "cell_type": "code",
   "execution_count": 11,
   "id": "114d9360",
   "metadata": {
    "execution": {
     "iopub.execute_input": "2024-02-23T14:09:19.988075Z",
     "iopub.status.busy": "2024-02-23T14:09:19.987708Z",
     "iopub.status.idle": "2024-02-23T14:09:20.000188Z",
     "shell.execute_reply": "2024-02-23T14:09:19.998984Z"
    },
    "papermill": {
     "duration": 0.024484,
     "end_time": "2024-02-23T14:09:20.002455",
     "exception": false,
     "start_time": "2024-02-23T14:09:19.977971",
     "status": "completed"
    },
    "tags": []
   },
   "outputs": [],
   "source": [
    "# Load synthetic data from CSV files\n",
    "sales_df = pd.read_csv('sales_data.csv')\n",
    "customer_df = pd.read_csv('customer_data.csv')\n",
    "product_df = pd.read_csv('product_data.csv')"
   ]
  },
  {
   "cell_type": "code",
   "execution_count": 12,
   "id": "31f174bc",
   "metadata": {
    "execution": {
     "iopub.execute_input": "2024-02-23T14:09:20.021198Z",
     "iopub.status.busy": "2024-02-23T14:09:20.020833Z",
     "iopub.status.idle": "2024-02-23T14:09:20.037875Z",
     "shell.execute_reply": "2024-02-23T14:09:20.036843Z"
    },
    "papermill": {
     "duration": 0.028299,
     "end_time": "2024-02-23T14:09:20.039512",
     "exception": false,
     "start_time": "2024-02-23T14:09:20.011213",
     "status": "completed"
    },
    "tags": []
   },
   "outputs": [
    {
     "data": {
      "text/html": [
       "<div>\n",
       "<style scoped>\n",
       "    .dataframe tbody tr th:only-of-type {\n",
       "        vertical-align: middle;\n",
       "    }\n",
       "\n",
       "    .dataframe tbody tr th {\n",
       "        vertical-align: top;\n",
       "    }\n",
       "\n",
       "    .dataframe thead th {\n",
       "        text-align: right;\n",
       "    }\n",
       "</style>\n",
       "<table border=\"1\" class=\"dataframe\">\n",
       "  <thead>\n",
       "    <tr style=\"text-align: right;\">\n",
       "      <th></th>\n",
       "      <th>Customer Name</th>\n",
       "      <th>Product Name</th>\n",
       "      <th>Quantity</th>\n",
       "      <th>Price</th>\n",
       "      <th>Date</th>\n",
       "    </tr>\n",
       "  </thead>\n",
       "  <tbody>\n",
       "    <tr>\n",
       "      <th>0</th>\n",
       "      <td>Alan Durham</td>\n",
       "      <td>really</td>\n",
       "      <td>2</td>\n",
       "      <td>622.66</td>\n",
       "      <td>2023-03-14</td>\n",
       "    </tr>\n",
       "    <tr>\n",
       "      <th>1</th>\n",
       "      <td>Stacey Pitts</td>\n",
       "      <td>ten</td>\n",
       "      <td>6</td>\n",
       "      <td>169.11</td>\n",
       "      <td>2023-06-30</td>\n",
       "    </tr>\n",
       "    <tr>\n",
       "      <th>2</th>\n",
       "      <td>Jason Weber</td>\n",
       "      <td>positive</td>\n",
       "      <td>4</td>\n",
       "      <td>532.59</td>\n",
       "      <td>2023-11-05</td>\n",
       "    </tr>\n",
       "    <tr>\n",
       "      <th>3</th>\n",
       "      <td>James Henderson</td>\n",
       "      <td>this</td>\n",
       "      <td>7</td>\n",
       "      <td>813.24</td>\n",
       "      <td>2023-07-17</td>\n",
       "    </tr>\n",
       "    <tr>\n",
       "      <th>4</th>\n",
       "      <td>Phillip May</td>\n",
       "      <td>energy</td>\n",
       "      <td>8</td>\n",
       "      <td>921.98</td>\n",
       "      <td>2023-10-09</td>\n",
       "    </tr>\n",
       "  </tbody>\n",
       "</table>\n",
       "</div>"
      ],
      "text/plain": [
       "     Customer Name Product Name  Quantity   Price        Date\n",
       "0      Alan Durham       really         2  622.66  2023-03-14\n",
       "1     Stacey Pitts          ten         6  169.11  2023-06-30\n",
       "2      Jason Weber     positive         4  532.59  2023-11-05\n",
       "3  James Henderson         this         7  813.24  2023-07-17\n",
       "4      Phillip May       energy         8  921.98  2023-10-09"
      ]
     },
     "execution_count": 12,
     "metadata": {},
     "output_type": "execute_result"
    }
   ],
   "source": [
    "sales_df.head()"
   ]
  },
  {
   "cell_type": "code",
   "execution_count": 13,
   "id": "67b7d422",
   "metadata": {
    "execution": {
     "iopub.execute_input": "2024-02-23T14:09:20.058859Z",
     "iopub.status.busy": "2024-02-23T14:09:20.057994Z",
     "iopub.status.idle": "2024-02-23T14:09:20.068377Z",
     "shell.execute_reply": "2024-02-23T14:09:20.067333Z"
    },
    "papermill": {
     "duration": 0.022159,
     "end_time": "2024-02-23T14:09:20.070365",
     "exception": false,
     "start_time": "2024-02-23T14:09:20.048206",
     "status": "completed"
    },
    "tags": []
   },
   "outputs": [
    {
     "data": {
      "text/html": [
       "<div>\n",
       "<style scoped>\n",
       "    .dataframe tbody tr th:only-of-type {\n",
       "        vertical-align: middle;\n",
       "    }\n",
       "\n",
       "    .dataframe tbody tr th {\n",
       "        vertical-align: top;\n",
       "    }\n",
       "\n",
       "    .dataframe thead th {\n",
       "        text-align: right;\n",
       "    }\n",
       "</style>\n",
       "<table border=\"1\" class=\"dataframe\">\n",
       "  <thead>\n",
       "    <tr style=\"text-align: right;\">\n",
       "      <th></th>\n",
       "      <th>Customer Name</th>\n",
       "      <th>Age</th>\n",
       "      <th>Gender</th>\n",
       "      <th>Email</th>\n",
       "      <th>Address</th>\n",
       "    </tr>\n",
       "  </thead>\n",
       "  <tbody>\n",
       "    <tr>\n",
       "      <th>0</th>\n",
       "      <td>Angelica Clark</td>\n",
       "      <td>25</td>\n",
       "      <td>Male</td>\n",
       "      <td>garciacharles@example.org</td>\n",
       "      <td>154 Luna Stream Apt. 049\\nWest Pamela, VI 04137</td>\n",
       "    </tr>\n",
       "    <tr>\n",
       "      <th>1</th>\n",
       "      <td>Jean Colon</td>\n",
       "      <td>51</td>\n",
       "      <td>Female</td>\n",
       "      <td>hutchinsonchristina@example.org</td>\n",
       "      <td>Unit 8715 Box 0095\\nDPO AP 97623</td>\n",
       "    </tr>\n",
       "    <tr>\n",
       "      <th>2</th>\n",
       "      <td>Benjamin Robinson</td>\n",
       "      <td>58</td>\n",
       "      <td>Female</td>\n",
       "      <td>dana39@example.com</td>\n",
       "      <td>404 Mccullough Harbor Apt. 908\\nWest Amy, IA 2...</td>\n",
       "    </tr>\n",
       "    <tr>\n",
       "      <th>3</th>\n",
       "      <td>Brandi Lloyd</td>\n",
       "      <td>22</td>\n",
       "      <td>Female</td>\n",
       "      <td>wrightchloe@example.net</td>\n",
       "      <td>7974 Hickman Street Suite 812\\nEast Brucechest...</td>\n",
       "    </tr>\n",
       "    <tr>\n",
       "      <th>4</th>\n",
       "      <td>Tiffany Jackson</td>\n",
       "      <td>21</td>\n",
       "      <td>Female</td>\n",
       "      <td>wgiles@example.net</td>\n",
       "      <td>7457 Smith Burg\\nMurphyville, TN 96151</td>\n",
       "    </tr>\n",
       "  </tbody>\n",
       "</table>\n",
       "</div>"
      ],
      "text/plain": [
       "       Customer Name  Age  Gender                            Email  \\\n",
       "0     Angelica Clark   25    Male        garciacharles@example.org   \n",
       "1         Jean Colon   51  Female  hutchinsonchristina@example.org   \n",
       "2  Benjamin Robinson   58  Female               dana39@example.com   \n",
       "3       Brandi Lloyd   22  Female          wrightchloe@example.net   \n",
       "4    Tiffany Jackson   21  Female               wgiles@example.net   \n",
       "\n",
       "                                             Address  \n",
       "0    154 Luna Stream Apt. 049\\nWest Pamela, VI 04137  \n",
       "1                   Unit 8715 Box 0095\\nDPO AP 97623  \n",
       "2  404 Mccullough Harbor Apt. 908\\nWest Amy, IA 2...  \n",
       "3  7974 Hickman Street Suite 812\\nEast Brucechest...  \n",
       "4             7457 Smith Burg\\nMurphyville, TN 96151  "
      ]
     },
     "execution_count": 13,
     "metadata": {},
     "output_type": "execute_result"
    }
   ],
   "source": [
    "customer_df.head()"
   ]
  },
  {
   "cell_type": "code",
   "execution_count": 14,
   "id": "bb46f1ee",
   "metadata": {
    "execution": {
     "iopub.execute_input": "2024-02-23T14:09:20.091364Z",
     "iopub.status.busy": "2024-02-23T14:09:20.090435Z",
     "iopub.status.idle": "2024-02-23T14:09:20.099596Z",
     "shell.execute_reply": "2024-02-23T14:09:20.098757Z"
    },
    "papermill": {
     "duration": 0.021412,
     "end_time": "2024-02-23T14:09:20.101370",
     "exception": false,
     "start_time": "2024-02-23T14:09:20.079958",
     "status": "completed"
    },
    "tags": []
   },
   "outputs": [
    {
     "data": {
      "text/html": [
       "<div>\n",
       "<style scoped>\n",
       "    .dataframe tbody tr th:only-of-type {\n",
       "        vertical-align: middle;\n",
       "    }\n",
       "\n",
       "    .dataframe tbody tr th {\n",
       "        vertical-align: top;\n",
       "    }\n",
       "\n",
       "    .dataframe thead th {\n",
       "        text-align: right;\n",
       "    }\n",
       "</style>\n",
       "<table border=\"1\" class=\"dataframe\">\n",
       "  <thead>\n",
       "    <tr style=\"text-align: right;\">\n",
       "      <th></th>\n",
       "      <th>Product Name</th>\n",
       "      <th>Category</th>\n",
       "      <th>Price</th>\n",
       "    </tr>\n",
       "  </thead>\n",
       "  <tbody>\n",
       "    <tr>\n",
       "      <th>0</th>\n",
       "      <td>form</td>\n",
       "      <td>population</td>\n",
       "      <td>394.19</td>\n",
       "    </tr>\n",
       "    <tr>\n",
       "      <th>1</th>\n",
       "      <td>seem</td>\n",
       "      <td>smile</td>\n",
       "      <td>889.83</td>\n",
       "    </tr>\n",
       "    <tr>\n",
       "      <th>2</th>\n",
       "      <td>can</td>\n",
       "      <td>week</td>\n",
       "      <td>135.21</td>\n",
       "    </tr>\n",
       "    <tr>\n",
       "      <th>3</th>\n",
       "      <td>other</td>\n",
       "      <td>ahead</td>\n",
       "      <td>983.57</td>\n",
       "    </tr>\n",
       "    <tr>\n",
       "      <th>4</th>\n",
       "      <td>war</td>\n",
       "      <td>chair</td>\n",
       "      <td>715.01</td>\n",
       "    </tr>\n",
       "  </tbody>\n",
       "</table>\n",
       "</div>"
      ],
      "text/plain": [
       "  Product Name    Category   Price\n",
       "0         form  population  394.19\n",
       "1         seem       smile  889.83\n",
       "2          can        week  135.21\n",
       "3        other       ahead  983.57\n",
       "4          war       chair  715.01"
      ]
     },
     "execution_count": 14,
     "metadata": {},
     "output_type": "execute_result"
    }
   ],
   "source": [
    "product_df.head()"
   ]
  },
  {
   "cell_type": "markdown",
   "id": "889ec5c8",
   "metadata": {
    "papermill": {
     "duration": 0.009196,
     "end_time": "2024-02-23T14:09:20.120150",
     "exception": false,
     "start_time": "2024-02-23T14:09:20.110954",
     "status": "completed"
    },
    "tags": []
   },
   "source": [
    "# Sales Dataframe"
   ]
  },
  {
   "cell_type": "code",
   "execution_count": 15,
   "id": "43c9d02d",
   "metadata": {
    "execution": {
     "iopub.execute_input": "2024-02-23T14:09:20.141366Z",
     "iopub.status.busy": "2024-02-23T14:09:20.140436Z",
     "iopub.status.idle": "2024-02-23T14:09:20.166770Z",
     "shell.execute_reply": "2024-02-23T14:09:20.165646Z"
    },
    "papermill": {
     "duration": 0.039249,
     "end_time": "2024-02-23T14:09:20.169113",
     "exception": false,
     "start_time": "2024-02-23T14:09:20.129864",
     "status": "completed"
    },
    "tags": []
   },
   "outputs": [
    {
     "name": "stdout",
     "output_type": "stream",
     "text": [
      "<class 'pandas.core.frame.DataFrame'>\n",
      "RangeIndex: 1000 entries, 0 to 999\n",
      "Data columns (total 5 columns):\n",
      " #   Column         Non-Null Count  Dtype  \n",
      "---  ------         --------------  -----  \n",
      " 0   Customer Name  1000 non-null   object \n",
      " 1   Product Name   1000 non-null   object \n",
      " 2   Quantity       1000 non-null   int64  \n",
      " 3   Price          1000 non-null   float64\n",
      " 4   Date           1000 non-null   object \n",
      "dtypes: float64(1), int64(1), object(3)\n",
      "memory usage: 39.2+ KB\n"
     ]
    }
   ],
   "source": [
    "sales_df.info()"
   ]
  },
  {
   "cell_type": "code",
   "execution_count": 16,
   "id": "331c2497",
   "metadata": {
    "execution": {
     "iopub.execute_input": "2024-02-23T14:09:20.190514Z",
     "iopub.status.busy": "2024-02-23T14:09:20.189861Z",
     "iopub.status.idle": "2024-02-23T14:09:20.197531Z",
     "shell.execute_reply": "2024-02-23T14:09:20.196201Z"
    },
    "papermill": {
     "duration": 0.021273,
     "end_time": "2024-02-23T14:09:20.200202",
     "exception": false,
     "start_time": "2024-02-23T14:09:20.178929",
     "status": "completed"
    },
    "tags": []
   },
   "outputs": [
    {
     "data": {
      "text/plain": [
       "Customer Name     object\n",
       "Product Name      object\n",
       "Quantity           int64\n",
       "Price            float64\n",
       "Date              object\n",
       "dtype: object"
      ]
     },
     "execution_count": 16,
     "metadata": {},
     "output_type": "execute_result"
    }
   ],
   "source": [
    "sales_df.dtypes"
   ]
  },
  {
   "cell_type": "code",
   "execution_count": 17,
   "id": "4fc324b2",
   "metadata": {
    "execution": {
     "iopub.execute_input": "2024-02-23T14:09:20.221599Z",
     "iopub.status.busy": "2024-02-23T14:09:20.220904Z",
     "iopub.status.idle": "2024-02-23T14:09:20.227196Z",
     "shell.execute_reply": "2024-02-23T14:09:20.226575Z"
    },
    "papermill": {
     "duration": 0.019335,
     "end_time": "2024-02-23T14:09:20.229312",
     "exception": false,
     "start_time": "2024-02-23T14:09:20.209977",
     "status": "completed"
    },
    "tags": []
   },
   "outputs": [
    {
     "data": {
      "text/plain": [
       "Customer Name    0\n",
       "Product Name     0\n",
       "Quantity         0\n",
       "Price            0\n",
       "Date             0\n",
       "dtype: int64"
      ]
     },
     "execution_count": 17,
     "metadata": {},
     "output_type": "execute_result"
    }
   ],
   "source": [
    "sales_df.isnull().sum()"
   ]
  },
  {
   "cell_type": "code",
   "execution_count": 18,
   "id": "6ef5584b",
   "metadata": {
    "execution": {
     "iopub.execute_input": "2024-02-23T14:09:20.251490Z",
     "iopub.status.busy": "2024-02-23T14:09:20.250627Z",
     "iopub.status.idle": "2024-02-23T14:09:22.032229Z",
     "shell.execute_reply": "2024-02-23T14:09:22.030946Z"
    },
    "papermill": {
     "duration": 1.795055,
     "end_time": "2024-02-23T14:09:22.034657",
     "exception": false,
     "start_time": "2024-02-23T14:09:20.239602",
     "status": "completed"
    },
    "tags": []
   },
   "outputs": [
    {
     "data": {
      "text/plain": [
       "<Axes: >"
      ]
     },
     "execution_count": 18,
     "metadata": {},
     "output_type": "execute_result"
    },
    {
     "data": {
      "image/png": "[encoded data removed]",
      "text/plain": [
       "<Figure size 2500x1000 with 2 Axes>"
      ]
     },
     "metadata": {},
     "output_type": "display_data"
    }
   ],
   "source": [
    "import missingno as msno\n",
    "msno.matrix(sales_df)"
   ]
  },
  {
   "cell_type": "code",
   "execution_count": 19,
   "id": "46decb07",
   "metadata": {
    "execution": {
     "iopub.execute_input": "2024-02-23T14:09:22.057712Z",
     "iopub.status.busy": "2024-02-23T14:09:22.056734Z",
     "iopub.status.idle": "2024-02-23T14:09:22.063275Z",
     "shell.execute_reply": "2024-02-23T14:09:22.062295Z"
    },
    "papermill": {
     "duration": 0.020023,
     "end_time": "2024-02-23T14:09:22.065648",
     "exception": false,
     "start_time": "2024-02-23T14:09:22.045625",
     "status": "completed"
    },
    "tags": []
   },
   "outputs": [
    {
     "data": {
      "text/plain": [
       "Index(['Customer Name', 'Product Name', 'Quantity', 'Price', 'Date'], dtype='object')"
      ]
     },
     "execution_count": 19,
     "metadata": {},
     "output_type": "execute_result"
    }
   ],
   "source": [
    "sales_df.columns"
   ]
  },
  {
   "cell_type": "code",
   "execution_count": 20,
   "id": "a697045b",
   "metadata": {
    "execution": {
     "iopub.execute_input": "2024-02-23T14:09:22.088012Z",
     "iopub.status.busy": "2024-02-23T14:09:22.087692Z",
     "iopub.status.idle": "2024-02-23T14:09:22.100115Z",
     "shell.execute_reply": "2024-02-23T14:09:22.099316Z"
    },
    "papermill": {
     "duration": 0.025995,
     "end_time": "2024-02-23T14:09:22.102441",
     "exception": false,
     "start_time": "2024-02-23T14:09:22.076446",
     "status": "completed"
    },
    "tags": []
   },
   "outputs": [
    {
     "data": {
      "text/plain": [
       "Customer Name   Product Name  Quantity  Price   Date      \n",
       "Aaron Cross     anything      1         451.37  2023-03-30    1\n",
       "Michelle Brown  everything    9         719.39  2023-07-18    1\n",
       "Michael Reed    clearly       8         370.52  2023-03-07    1\n",
       "Michael Romero  fly           7         790.49  2023-08-17    1\n",
       "Michael Roy     not           1         119.79  2023-04-10    1\n",
       "                                                             ..\n",
       "Haley Butler    ground        9         635.87  2023-07-03    1\n",
       "Hannah Tucker   environment   6         764.14  2023-10-12    1\n",
       "Harry French    give          2         212.77  2023-05-06    1\n",
       "Heather Bean    society       8         310.72  2023-06-21    1\n",
       "Zoe King        so            3         418.49  2023-06-14    1\n",
       "Name: count, Length: 1000, dtype: int64"
      ]
     },
     "execution_count": 20,
     "metadata": {},
     "output_type": "execute_result"
    }
   ],
   "source": [
    "sales_df.value_counts()"
   ]
  },
  {
   "cell_type": "code",
   "execution_count": 21,
   "id": "31755117",
   "metadata": {
    "execution": {
     "iopub.execute_input": "2024-02-23T14:09:22.125710Z",
     "iopub.status.busy": "2024-02-23T14:09:22.125355Z",
     "iopub.status.idle": "2024-02-23T14:09:22.135352Z",
     "shell.execute_reply": "2024-02-23T14:09:22.134406Z"
    },
    "papermill": {
     "duration": 0.023834,
     "end_time": "2024-02-23T14:09:22.137078",
     "exception": false,
     "start_time": "2024-02-23T14:09:22.113244",
     "status": "completed"
    },
    "tags": []
   },
   "outputs": [
    {
     "data": {
      "text/html": [
       "<div>\n",
       "<style scoped>\n",
       "    .dataframe tbody tr th:only-of-type {\n",
       "        vertical-align: middle;\n",
       "    }\n",
       "\n",
       "    .dataframe tbody tr th {\n",
       "        vertical-align: top;\n",
       "    }\n",
       "\n",
       "    .dataframe thead th {\n",
       "        text-align: right;\n",
       "    }\n",
       "</style>\n",
       "<table border=\"1\" class=\"dataframe\">\n",
       "  <thead>\n",
       "    <tr style=\"text-align: right;\">\n",
       "      <th></th>\n",
       "      <th>Customer Name</th>\n",
       "      <th>Product Name</th>\n",
       "      <th>Quantity</th>\n",
       "      <th>Price</th>\n",
       "      <th>Date</th>\n",
       "    </tr>\n",
       "  </thead>\n",
       "  <tbody>\n",
       "    <tr>\n",
       "      <th>0</th>\n",
       "      <td>Alan Durham</td>\n",
       "      <td>really</td>\n",
       "      <td>2</td>\n",
       "      <td>622.66</td>\n",
       "      <td>2023-03-14</td>\n",
       "    </tr>\n",
       "    <tr>\n",
       "      <th>1</th>\n",
       "      <td>Stacey Pitts</td>\n",
       "      <td>ten</td>\n",
       "      <td>6</td>\n",
       "      <td>169.11</td>\n",
       "      <td>2023-06-30</td>\n",
       "    </tr>\n",
       "    <tr>\n",
       "      <th>2</th>\n",
       "      <td>Jason Weber</td>\n",
       "      <td>positive</td>\n",
       "      <td>4</td>\n",
       "      <td>532.59</td>\n",
       "      <td>2023-11-05</td>\n",
       "    </tr>\n",
       "    <tr>\n",
       "      <th>3</th>\n",
       "      <td>James Henderson</td>\n",
       "      <td>this</td>\n",
       "      <td>7</td>\n",
       "      <td>813.24</td>\n",
       "      <td>2023-07-17</td>\n",
       "    </tr>\n",
       "    <tr>\n",
       "      <th>4</th>\n",
       "      <td>Phillip May</td>\n",
       "      <td>energy</td>\n",
       "      <td>8</td>\n",
       "      <td>921.98</td>\n",
       "      <td>2023-10-09</td>\n",
       "    </tr>\n",
       "  </tbody>\n",
       "</table>\n",
       "</div>"
      ],
      "text/plain": [
       "     Customer Name Product Name  Quantity   Price        Date\n",
       "0      Alan Durham       really         2  622.66  2023-03-14\n",
       "1     Stacey Pitts          ten         6  169.11  2023-06-30\n",
       "2      Jason Weber     positive         4  532.59  2023-11-05\n",
       "3  James Henderson         this         7  813.24  2023-07-17\n",
       "4      Phillip May       energy         8  921.98  2023-10-09"
      ]
     },
     "execution_count": 21,
     "metadata": {},
     "output_type": "execute_result"
    }
   ],
   "source": [
    "sales_df.head()"
   ]
  },
  {
   "cell_type": "code",
   "execution_count": 22,
   "id": "87870731",
   "metadata": {
    "execution": {
     "iopub.execute_input": "2024-02-23T14:09:22.160299Z",
     "iopub.status.busy": "2024-02-23T14:09:22.159559Z",
     "iopub.status.idle": "2024-02-23T14:09:22.183693Z",
     "shell.execute_reply": "2024-02-23T14:09:22.182952Z"
    },
    "papermill": {
     "duration": 0.037691,
     "end_time": "2024-02-23T14:09:22.185587",
     "exception": false,
     "start_time": "2024-02-23T14:09:22.147896",
     "status": "completed"
    },
    "tags": []
   },
   "outputs": [
    {
     "name": "stderr",
     "output_type": "stream",
     "text": [
      "/tmp/ipykernel_18/362330020.py:5: FutureWarning: 'M' is deprecated and will be removed in a future version, please use 'ME' instead.\n",
      "  monthly_sales = sales_df.resample('M').sum()\n"
     ]
    }
   ],
   "source": [
    "# Data analysis and visualization\n",
    "# Example: Plot total sales over time\n",
    "sales_df['Date'] = pd.to_datetime(sales_df['Date'])\n",
    "sales_df.set_index('Date', inplace=True)\n",
    "monthly_sales = sales_df.resample('M').sum()"
   ]
  },
  {
   "cell_type": "code",
   "execution_count": 23,
   "id": "32b7428e",
   "metadata": {
    "execution": {
     "iopub.execute_input": "2024-02-23T14:09:22.208683Z",
     "iopub.status.busy": "2024-02-23T14:09:22.208315Z",
     "iopub.status.idle": "2024-02-23T14:09:22.436221Z",
     "shell.execute_reply": "2024-02-23T14:09:22.435055Z"
    },
    "papermill": {
     "duration": 0.241634,
     "end_time": "2024-02-23T14:09:22.438064",
     "exception": false,
     "start_time": "2024-02-23T14:09:22.196430",
     "status": "completed"
    },
    "tags": []
   },
   "outputs": [
    {
     "data": {
      "image/png": "[encoded data removed]",
      "text/plain": [
       "<Figure size 1000x600 with 1 Axes>"
      ]
     },
     "metadata": {},
     "output_type": "display_data"
    }
   ],
   "source": [
    "plt.figure(figsize=(10, 6))\n",
    "plt.plot(monthly_sales.index, monthly_sales['Price'], marker='o', linestyle='-')\n",
    "plt.title('Total Sales Over Time')\n",
    "plt.xlabel('Date')\n",
    "plt.ylabel('Total Sales')\n",
    "plt.grid(True)\n",
    "plt.show()"
   ]
  },
  {
   "cell_type": "markdown",
   "id": "aa4e7a69",
   "metadata": {
    "papermill": {
     "duration": 0.011104,
     "end_time": "2024-02-23T14:09:22.460257",
     "exception": false,
     "start_time": "2024-02-23T14:09:22.449153",
     "status": "completed"
    },
    "tags": []
   },
   "source": [
    "# Customer DataFrame"
   ]
  },
  {
   "cell_type": "code",
   "execution_count": 24,
   "id": "af09e32d",
   "metadata": {
    "execution": {
     "iopub.execute_input": "2024-02-23T14:09:22.531952Z",
     "iopub.status.busy": "2024-02-23T14:09:22.531642Z",
     "iopub.status.idle": "2024-02-23T14:09:22.542002Z",
     "shell.execute_reply": "2024-02-23T14:09:22.540973Z"
    },
    "papermill": {
     "duration": 0.025417,
     "end_time": "2024-02-23T14:09:22.543733",
     "exception": false,
     "start_time": "2024-02-23T14:09:22.518316",
     "status": "completed"
    },
    "tags": []
   },
   "outputs": [
    {
     "data": {
      "text/html": [
       "<div>\n",
       "<style scoped>\n",
       "    .dataframe tbody tr th:only-of-type {\n",
       "        vertical-align: middle;\n",
       "    }\n",
       "\n",
       "    .dataframe tbody tr th {\n",
       "        vertical-align: top;\n",
       "    }\n",
       "\n",
       "    .dataframe thead th {\n",
       "        text-align: right;\n",
       "    }\n",
       "</style>\n",
       "<table border=\"1\" class=\"dataframe\">\n",
       "  <thead>\n",
       "    <tr style=\"text-align: right;\">\n",
       "      <th></th>\n",
       "      <th>Customer Name</th>\n",
       "      <th>Age</th>\n",
       "      <th>Gender</th>\n",
       "      <th>Email</th>\n",
       "      <th>Address</th>\n",
       "    </tr>\n",
       "  </thead>\n",
       "  <tbody>\n",
       "    <tr>\n",
       "      <th>0</th>\n",
       "      <td>Angelica Clark</td>\n",
       "      <td>25</td>\n",
       "      <td>Male</td>\n",
       "      <td>garciacharles@example.org</td>\n",
       "      <td>154 Luna Stream Apt. 049\\nWest Pamela, VI 04137</td>\n",
       "    </tr>\n",
       "    <tr>\n",
       "      <th>1</th>\n",
       "      <td>Jean Colon</td>\n",
       "      <td>51</td>\n",
       "      <td>Female</td>\n",
       "      <td>hutchinsonchristina@example.org</td>\n",
       "      <td>Unit 8715 Box 0095\\nDPO AP 97623</td>\n",
       "    </tr>\n",
       "    <tr>\n",
       "      <th>2</th>\n",
       "      <td>Benjamin Robinson</td>\n",
       "      <td>58</td>\n",
       "      <td>Female</td>\n",
       "      <td>dana39@example.com</td>\n",
       "      <td>404 Mccullough Harbor Apt. 908\\nWest Amy, IA 2...</td>\n",
       "    </tr>\n",
       "    <tr>\n",
       "      <th>3</th>\n",
       "      <td>Brandi Lloyd</td>\n",
       "      <td>22</td>\n",
       "      <td>Female</td>\n",
       "      <td>wrightchloe@example.net</td>\n",
       "      <td>7974 Hickman Street Suite 812\\nEast Brucechest...</td>\n",
       "    </tr>\n",
       "    <tr>\n",
       "      <th>4</th>\n",
       "      <td>Tiffany Jackson</td>\n",
       "      <td>21</td>\n",
       "      <td>Female</td>\n",
       "      <td>wgiles@example.net</td>\n",
       "      <td>7457 Smith Burg\\nMurphyville, TN 96151</td>\n",
       "    </tr>\n",
       "  </tbody>\n",
       "</table>\n",
       "</div>"
      ],
      "text/plain": [
       "       Customer Name  Age  Gender                            Email  \\\n",
       "0     Angelica Clark   25    Male        garciacharles@example.org   \n",
       "1         Jean Colon   51  Female  hutchinsonchristina@example.org   \n",
       "2  Benjamin Robinson   58  Female               dana39@example.com   \n",
       "3       Brandi Lloyd   22  Female          wrightchloe@example.net   \n",
       "4    Tiffany Jackson   21  Female               wgiles@example.net   \n",
       "\n",
       "                                             Address  \n",
       "0    154 Luna Stream Apt. 049\\nWest Pamela, VI 04137  \n",
       "1                   Unit 8715 Box 0095\\nDPO AP 97623  \n",
       "2  404 Mccullough Harbor Apt. 908\\nWest Amy, IA 2...  \n",
       "3  7974 Hickman Street Suite 812\\nEast Brucechest...  \n",
       "4             7457 Smith Burg\\nMurphyville, TN 96151  "
      ]
     },
     "execution_count": 24,
     "metadata": {},
     "output_type": "execute_result"
    }
   ],
   "source": [
    "customer_df.head()"
   ]
  },
  {
   "cell_type": "code",
   "execution_count": 25,
   "id": "865b97b0",
   "metadata": {
    "execution": {
     "iopub.execute_input": "2024-02-23T14:09:22.567535Z",
     "iopub.status.busy": "2024-02-23T14:09:22.567209Z",
     "iopub.status.idle": "2024-02-23T14:09:22.576382Z",
     "shell.execute_reply": "2024-02-23T14:09:22.575445Z"
    },
    "papermill": {
     "duration": 0.023756,
     "end_time": "2024-02-23T14:09:22.578712",
     "exception": false,
     "start_time": "2024-02-23T14:09:22.554956",
     "status": "completed"
    },
    "tags": []
   },
   "outputs": [
    {
     "name": "stdout",
     "output_type": "stream",
     "text": [
      "<class 'pandas.core.frame.DataFrame'>\n",
      "RangeIndex: 200 entries, 0 to 199\n",
      "Data columns (total 5 columns):\n",
      " #   Column         Non-Null Count  Dtype \n",
      "---  ------         --------------  ----- \n",
      " 0   Customer Name  200 non-null    object\n",
      " 1   Age            200 non-null    int64 \n",
      " 2   Gender         200 non-null    object\n",
      " 3   Email          200 non-null    object\n",
      " 4   Address        200 non-null    object\n",
      "dtypes: int64(1), object(4)\n",
      "memory usage: 7.9+ KB\n"
     ]
    }
   ],
   "source": [
    "customer_df.info()"
   ]
  },
  {
   "cell_type": "code",
   "execution_count": 26,
   "id": "d5906fb1",
   "metadata": {
    "execution": {
     "iopub.execute_input": "2024-02-23T14:09:22.604164Z",
     "iopub.status.busy": "2024-02-23T14:09:22.603862Z",
     "iopub.status.idle": "2024-02-23T14:09:22.609128Z",
     "shell.execute_reply": "2024-02-23T14:09:22.608124Z"
    },
    "papermill": {
     "duration": 0.020578,
     "end_time": "2024-02-23T14:09:22.611447",
     "exception": false,
     "start_time": "2024-02-23T14:09:22.590869",
     "status": "completed"
    },
    "tags": []
   },
   "outputs": [
    {
     "data": {
      "text/plain": [
       "(200, 5)"
      ]
     },
     "execution_count": 26,
     "metadata": {},
     "output_type": "execute_result"
    }
   ],
   "source": [
    "customer_df.shape"
   ]
  },
  {
   "cell_type": "code",
   "execution_count": 27,
   "id": "3bd79087",
   "metadata": {
    "execution": {
     "iopub.execute_input": "2024-02-23T14:09:22.643803Z",
     "iopub.status.busy": "2024-02-23T14:09:22.643234Z",
     "iopub.status.idle": "2024-02-23T14:09:22.658007Z",
     "shell.execute_reply": "2024-02-23T14:09:22.656528Z"
    },
    "papermill": {
     "duration": 0.032941,
     "end_time": "2024-02-23T14:09:22.660040",
     "exception": false,
     "start_time": "2024-02-23T14:09:22.627099",
     "status": "completed"
    },
    "tags": []
   },
   "outputs": [
    {
     "data": {
      "text/html": [
       "<div>\n",
       "<style scoped>\n",
       "    .dataframe tbody tr th:only-of-type {\n",
       "        vertical-align: middle;\n",
       "    }\n",
       "\n",
       "    .dataframe tbody tr th {\n",
       "        vertical-align: top;\n",
       "    }\n",
       "\n",
       "    .dataframe thead th {\n",
       "        text-align: right;\n",
       "    }\n",
       "</style>\n",
       "<table border=\"1\" class=\"dataframe\">\n",
       "  <thead>\n",
       "    <tr style=\"text-align: right;\">\n",
       "      <th></th>\n",
       "      <th>Age</th>\n",
       "    </tr>\n",
       "  </thead>\n",
       "  <tbody>\n",
       "    <tr>\n",
       "      <th>count</th>\n",
       "      <td>200.000000</td>\n",
       "    </tr>\n",
       "    <tr>\n",
       "      <th>mean</th>\n",
       "      <td>43.050000</td>\n",
       "    </tr>\n",
       "    <tr>\n",
       "      <th>std</th>\n",
       "      <td>15.582412</td>\n",
       "    </tr>\n",
       "    <tr>\n",
       "      <th>min</th>\n",
       "      <td>18.000000</td>\n",
       "    </tr>\n",
       "    <tr>\n",
       "      <th>25%</th>\n",
       "      <td>29.000000</td>\n",
       "    </tr>\n",
       "    <tr>\n",
       "      <th>50%</th>\n",
       "      <td>42.500000</td>\n",
       "    </tr>\n",
       "    <tr>\n",
       "      <th>75%</th>\n",
       "      <td>56.000000</td>\n",
       "    </tr>\n",
       "    <tr>\n",
       "      <th>max</th>\n",
       "      <td>70.000000</td>\n",
       "    </tr>\n",
       "  </tbody>\n",
       "</table>\n",
       "</div>"
      ],
      "text/plain": [
       "              Age\n",
       "count  200.000000\n",
       "mean    43.050000\n",
       "std     15.582412\n",
       "min     18.000000\n",
       "25%     29.000000\n",
       "50%     42.500000\n",
       "75%     56.000000\n",
       "max     70.000000"
      ]
     },
     "execution_count": 27,
     "metadata": {},
     "output_type": "execute_result"
    }
   ],
   "source": [
    "customer_df.describe()"
   ]
  },
  {
   "cell_type": "code",
   "execution_count": 28,
   "id": "64ae39d3",
   "metadata": {
    "execution": {
     "iopub.execute_input": "2024-02-23T14:09:22.684213Z",
     "iopub.status.busy": "2024-02-23T14:09:22.683921Z",
     "iopub.status.idle": "2024-02-23T14:09:22.702933Z",
     "shell.execute_reply": "2024-02-23T14:09:22.701484Z"
    },
    "papermill": {
     "duration": 0.033649,
     "end_time": "2024-02-23T14:09:22.705150",
     "exception": false,
     "start_time": "2024-02-23T14:09:22.671501",
     "status": "completed"
    },
    "tags": []
   },
   "outputs": [
    {
     "data": {
      "text/html": [
       "<div>\n",
       "<style scoped>\n",
       "    .dataframe tbody tr th:only-of-type {\n",
       "        vertical-align: middle;\n",
       "    }\n",
       "\n",
       "    .dataframe tbody tr th {\n",
       "        vertical-align: top;\n",
       "    }\n",
       "\n",
       "    .dataframe thead th {\n",
       "        text-align: right;\n",
       "    }\n",
       "</style>\n",
       "<table border=\"1\" class=\"dataframe\">\n",
       "  <thead>\n",
       "    <tr style=\"text-align: right;\">\n",
       "      <th></th>\n",
       "      <th>Customer Name</th>\n",
       "      <th>Age</th>\n",
       "      <th>Gender</th>\n",
       "      <th>Email</th>\n",
       "      <th>Address</th>\n",
       "    </tr>\n",
       "  </thead>\n",
       "  <tbody>\n",
       "    <tr>\n",
       "      <th>count</th>\n",
       "      <td>200</td>\n",
       "      <td>200.000000</td>\n",
       "      <td>200</td>\n",
       "      <td>200</td>\n",
       "      <td>200</td>\n",
       "    </tr>\n",
       "    <tr>\n",
       "      <th>unique</th>\n",
       "      <td>200</td>\n",
       "      <td>NaN</td>\n",
       "      <td>2</td>\n",
       "      <td>200</td>\n",
       "      <td>200</td>\n",
       "    </tr>\n",
       "    <tr>\n",
       "      <th>top</th>\n",
       "      <td>Angelica Clark</td>\n",
       "      <td>NaN</td>\n",
       "      <td>Male</td>\n",
       "      <td>garciacharles@example.org</td>\n",
       "      <td>154 Luna Stream Apt. 049\\nWest Pamela, VI 04137</td>\n",
       "    </tr>\n",
       "    <tr>\n",
       "      <th>freq</th>\n",
       "      <td>1</td>\n",
       "      <td>NaN</td>\n",
       "      <td>106</td>\n",
       "      <td>1</td>\n",
       "      <td>1</td>\n",
       "    </tr>\n",
       "    <tr>\n",
       "      <th>mean</th>\n",
       "      <td>NaN</td>\n",
       "      <td>43.050000</td>\n",
       "      <td>NaN</td>\n",
       "      <td>NaN</td>\n",
       "      <td>NaN</td>\n",
       "    </tr>\n",
       "    <tr>\n",
       "      <th>std</th>\n",
       "      <td>NaN</td>\n",
       "      <td>15.582412</td>\n",
       "      <td>NaN</td>\n",
       "      <td>NaN</td>\n",
       "      <td>NaN</td>\n",
       "    </tr>\n",
       "    <tr>\n",
       "      <th>min</th>\n",
       "      <td>NaN</td>\n",
       "      <td>18.000000</td>\n",
       "      <td>NaN</td>\n",
       "      <td>NaN</td>\n",
       "      <td>NaN</td>\n",
       "    </tr>\n",
       "    <tr>\n",
       "      <th>25%</th>\n",
       "      <td>NaN</td>\n",
       "      <td>29.000000</td>\n",
       "      <td>NaN</td>\n",
       "      <td>NaN</td>\n",
       "      <td>NaN</td>\n",
       "    </tr>\n",
       "    <tr>\n",
       "      <th>50%</th>\n",
       "      <td>NaN</td>\n",
       "      <td>42.500000</td>\n",
       "      <td>NaN</td>\n",
       "      <td>NaN</td>\n",
       "      <td>NaN</td>\n",
       "    </tr>\n",
       "    <tr>\n",
       "      <th>75%</th>\n",
       "      <td>NaN</td>\n",
       "      <td>56.000000</td>\n",
       "      <td>NaN</td>\n",
       "      <td>NaN</td>\n",
       "      <td>NaN</td>\n",
       "    </tr>\n",
       "    <tr>\n",
       "      <th>max</th>\n",
       "      <td>NaN</td>\n",
       "      <td>70.000000</td>\n",
       "      <td>NaN</td>\n",
       "      <td>NaN</td>\n",
       "      <td>NaN</td>\n",
       "    </tr>\n",
       "  </tbody>\n",
       "</table>\n",
       "</div>"
      ],
      "text/plain": [
       "         Customer Name         Age Gender                      Email  \\\n",
       "count              200  200.000000    200                        200   \n",
       "unique             200         NaN      2                        200   \n",
       "top     Angelica Clark         NaN   Male  garciacharles@example.org   \n",
       "freq                 1         NaN    106                          1   \n",
       "mean               NaN   43.050000    NaN                        NaN   \n",
       "std                NaN   15.582412    NaN                        NaN   \n",
       "min                NaN   18.000000    NaN                        NaN   \n",
       "25%                NaN   29.000000    NaN                        NaN   \n",
       "50%                NaN   42.500000    NaN                        NaN   \n",
       "75%                NaN   56.000000    NaN                        NaN   \n",
       "max                NaN   70.000000    NaN                        NaN   \n",
       "\n",
       "                                                Address  \n",
       "count                                               200  \n",
       "unique                                              200  \n",
       "top     154 Luna Stream Apt. 049\\nWest Pamela, VI 04137  \n",
       "freq                                                  1  \n",
       "mean                                                NaN  \n",
       "std                                                 NaN  \n",
       "min                                                 NaN  \n",
       "25%                                                 NaN  \n",
       "50%                                                 NaN  \n",
       "75%                                                 NaN  \n",
       "max                                                 NaN  "
      ]
     },
     "execution_count": 28,
     "metadata": {},
     "output_type": "execute_result"
    }
   ],
   "source": [
    "customer_df.describe(include = \"all\")"
   ]
  },
  {
   "cell_type": "code",
   "execution_count": 29,
   "id": "2ebea189",
   "metadata": {
    "execution": {
     "iopub.execute_input": "2024-02-23T14:09:22.732000Z",
     "iopub.status.busy": "2024-02-23T14:09:22.731646Z",
     "iopub.status.idle": "2024-02-23T14:09:22.743617Z",
     "shell.execute_reply": "2024-02-23T14:09:22.742985Z"
    },
    "papermill": {
     "duration": 0.027411,
     "end_time": "2024-02-23T14:09:22.745215",
     "exception": false,
     "start_time": "2024-02-23T14:09:22.717804",
     "status": "completed"
    },
    "tags": []
   },
   "outputs": [
    {
     "data": {
      "text/plain": [
       "Customer Name      Age  Gender  Email                        Address                                                 \n",
       "Alex Jackson       41   Male    tonyferguson@example.org     USS Smith\\nFPO AA 37002                                     1\n",
       "Michele Hansen     44   Female  david81@example.com          Unit 3116 Box 4932\\nDPO AP 27200                            1\n",
       "Matthew Gray       52   Female  zgrant@example.com           0079 Russell Plain\\nCooperstad, NE 44898                    1\n",
       "Matthew Sullivan   49   Male    grich@example.com            7898 Angela Ways Suite 794\\nWilliefort, ID 67099            1\n",
       "Meagan Carpenter   61   Male    gchan@example.net            27611 Banks Flats\\nMckenzieport, AK 81031                   1\n",
       "                                                                                                                        ..\n",
       "Elizabeth Gray     28   Female  martinstephanie@example.org  Unit 9237 Box 7430\\nDPO AE 02921                            1\n",
       "Elizabeth Hawkins  67   Male    megan72@example.org          536 James Oval Suite 814\\nZacharyberg, SD 75414             1\n",
       "Felicia Carter     40   Female  castillofelicia@example.com  59391 Jeremy Rapid\\nKelleyborough, NH 54988                 1\n",
       "Gina Kramer        34   Male    calvin34@example.net         3827 Martinez Underpass Apt. 662\\nSouth Sherry, VA 78172    1\n",
       "Zachary White      57   Female  jeffrey71@example.net        463 Chad Loop Suite 448\\nSouth Christinaville, OK 14751     1\n",
       "Name: count, Length: 200, dtype: int64"
      ]
     },
     "execution_count": 29,
     "metadata": {},
     "output_type": "execute_result"
    }
   ],
   "source": [
    "customer_df.value_counts()"
   ]
  },
  {
   "cell_type": "code",
   "execution_count": 30,
   "id": "66ffe4be",
   "metadata": {
    "execution": {
     "iopub.execute_input": "2024-02-23T14:09:22.771340Z",
     "iopub.status.busy": "2024-02-23T14:09:22.770795Z",
     "iopub.status.idle": "2024-02-23T14:09:22.777856Z",
     "shell.execute_reply": "2024-02-23T14:09:22.776980Z"
    },
    "papermill": {
     "duration": 0.022785,
     "end_time": "2024-02-23T14:09:22.780245",
     "exception": false,
     "start_time": "2024-02-23T14:09:22.757460",
     "status": "completed"
    },
    "tags": []
   },
   "outputs": [
    {
     "data": {
      "text/plain": [
       "Customer Name    0\n",
       "Age              0\n",
       "Gender           0\n",
       "Email            0\n",
       "Address          0\n",
       "dtype: int64"
      ]
     },
     "execution_count": 30,
     "metadata": {},
     "output_type": "execute_result"
    }
   ],
   "source": [
    "customer_df.isnull().sum()"
   ]
  },
  {
   "cell_type": "code",
   "execution_count": 31,
   "id": "ea130787",
   "metadata": {
    "execution": {
     "iopub.execute_input": "2024-02-23T14:09:22.807810Z",
     "iopub.status.busy": "2024-02-23T14:09:22.807237Z",
     "iopub.status.idle": "2024-02-23T14:09:23.191519Z",
     "shell.execute_reply": "2024-02-23T14:09:23.190411Z"
    },
    "papermill": {
     "duration": 0.400342,
     "end_time": "2024-02-23T14:09:23.193368",
     "exception": false,
     "start_time": "2024-02-23T14:09:22.793026",
     "status": "completed"
    },
    "tags": []
   },
   "outputs": [
    {
     "data": {
      "text/plain": [
       "<Axes: >"
      ]
     },
     "execution_count": 31,
     "metadata": {},
     "output_type": "execute_result"
    },
    {
     "data": {
      "image/png": "[encoded data removed]",
      "text/plain": [
       "<Figure size 2500x1000 with 2 Axes>"
      ]
     },
     "metadata": {},
     "output_type": "display_data"
    }
   ],
   "source": [
    "msno.matrix(customer_df)"
   ]
  },
  {
   "cell_type": "code",
   "execution_count": 32,
   "id": "f50e3779",
   "metadata": {
    "execution": {
     "iopub.execute_input": "2024-02-23T14:09:23.226106Z",
     "iopub.status.busy": "2024-02-23T14:09:23.225598Z",
     "iopub.status.idle": "2024-02-23T14:09:23.436224Z",
     "shell.execute_reply": "2024-02-23T14:09:23.435448Z"
    },
    "papermill": {
     "duration": 0.227828,
     "end_time": "2024-02-23T14:09:23.437966",
     "exception": false,
     "start_time": "2024-02-23T14:09:23.210138",
     "status": "completed"
    },
    "tags": []
   },
   "outputs": [
    {
     "data": {
      "image/png": "[encoded data removed]",
      "text/plain": [
       "<Figure size 800x600 with 1 Axes>"
      ]
     },
     "metadata": {},
     "output_type": "display_data"
    }
   ],
   "source": [
    "# Example: Customer age distribution\n",
    "plt.figure(figsize=(8, 6))\n",
    "plt.hist(customer_df['Age'], bins=20, color='skyblue', edgecolor='black', alpha=0.7)\n",
    "plt.title('Customer Age Distribution')\n",
    "plt.xlabel('Age')\n",
    "plt.ylabel('Frequency')\n",
    "plt.grid(True)\n",
    "plt.show()"
   ]
  },
  {
   "cell_type": "markdown",
   "id": "572fb246",
   "metadata": {
    "papermill": {
     "duration": 0.012876,
     "end_time": "2024-02-23T14:09:23.463985",
     "exception": false,
     "start_time": "2024-02-23T14:09:23.451109",
     "status": "completed"
    },
    "tags": []
   },
   "source": [
    "## Product Dataframe"
   ]
  },
  {
   "cell_type": "code",
   "execution_count": 33,
   "id": "d3d7ff11",
   "metadata": {
    "execution": {
     "iopub.execute_input": "2024-02-23T14:09:23.490708Z",
     "iopub.status.busy": "2024-02-23T14:09:23.490353Z",
     "iopub.status.idle": "2024-02-23T14:09:23.499577Z",
     "shell.execute_reply": "2024-02-23T14:09:23.498785Z"
    },
    "papermill": {
     "duration": 0.024725,
     "end_time": "2024-02-23T14:09:23.501310",
     "exception": false,
     "start_time": "2024-02-23T14:09:23.476585",
     "status": "completed"
    },
    "tags": []
   },
   "outputs": [
    {
     "data": {
      "text/html": [
       "<div>\n",
       "<style scoped>\n",
       "    .dataframe tbody tr th:only-of-type {\n",
       "        vertical-align: middle;\n",
       "    }\n",
       "\n",
       "    .dataframe tbody tr th {\n",
       "        vertical-align: top;\n",
       "    }\n",
       "\n",
       "    .dataframe thead th {\n",
       "        text-align: right;\n",
       "    }\n",
       "</style>\n",
       "<table border=\"1\" class=\"dataframe\">\n",
       "  <thead>\n",
       "    <tr style=\"text-align: right;\">\n",
       "      <th></th>\n",
       "      <th>Product Name</th>\n",
       "      <th>Category</th>\n",
       "      <th>Price</th>\n",
       "    </tr>\n",
       "  </thead>\n",
       "  <tbody>\n",
       "    <tr>\n",
       "      <th>0</th>\n",
       "      <td>form</td>\n",
       "      <td>population</td>\n",
       "      <td>394.19</td>\n",
       "    </tr>\n",
       "    <tr>\n",
       "      <th>1</th>\n",
       "      <td>seem</td>\n",
       "      <td>smile</td>\n",
       "      <td>889.83</td>\n",
       "    </tr>\n",
       "    <tr>\n",
       "      <th>2</th>\n",
       "      <td>can</td>\n",
       "      <td>week</td>\n",
       "      <td>135.21</td>\n",
       "    </tr>\n",
       "    <tr>\n",
       "      <th>3</th>\n",
       "      <td>other</td>\n",
       "      <td>ahead</td>\n",
       "      <td>983.57</td>\n",
       "    </tr>\n",
       "    <tr>\n",
       "      <th>4</th>\n",
       "      <td>war</td>\n",
       "      <td>chair</td>\n",
       "      <td>715.01</td>\n",
       "    </tr>\n",
       "  </tbody>\n",
       "</table>\n",
       "</div>"
      ],
      "text/plain": [
       "  Product Name    Category   Price\n",
       "0         form  population  394.19\n",
       "1         seem       smile  889.83\n",
       "2          can        week  135.21\n",
       "3        other       ahead  983.57\n",
       "4          war       chair  715.01"
      ]
     },
     "execution_count": 33,
     "metadata": {},
     "output_type": "execute_result"
    }
   ],
   "source": [
    "product_df.head()"
   ]
  },
  {
   "cell_type": "code",
   "execution_count": 34,
   "id": "536a977f",
   "metadata": {
    "execution": {
     "iopub.execute_input": "2024-02-23T14:09:23.531156Z",
     "iopub.status.busy": "2024-02-23T14:09:23.530363Z",
     "iopub.status.idle": "2024-02-23T14:09:23.539487Z",
     "shell.execute_reply": "2024-02-23T14:09:23.538336Z"
    },
    "papermill": {
     "duration": 0.026046,
     "end_time": "2024-02-23T14:09:23.541375",
     "exception": false,
     "start_time": "2024-02-23T14:09:23.515329",
     "status": "completed"
    },
    "tags": []
   },
   "outputs": [
    {
     "name": "stdout",
     "output_type": "stream",
     "text": [
      "<class 'pandas.core.frame.DataFrame'>\n",
      "RangeIndex: 50 entries, 0 to 49\n",
      "Data columns (total 3 columns):\n",
      " #   Column        Non-Null Count  Dtype  \n",
      "---  ------        --------------  -----  \n",
      " 0   Product Name  50 non-null     object \n",
      " 1   Category      50 non-null     object \n",
      " 2   Price         50 non-null     float64\n",
      "dtypes: float64(1), object(2)\n",
      "memory usage: 1.3+ KB\n"
     ]
    }
   ],
   "source": [
    "product_df.info()"
   ]
  },
  {
   "cell_type": "code",
   "execution_count": 35,
   "id": "dd613721",
   "metadata": {
    "execution": {
     "iopub.execute_input": "2024-02-23T14:09:23.569998Z",
     "iopub.status.busy": "2024-02-23T14:09:23.569509Z",
     "iopub.status.idle": "2024-02-23T14:09:23.582123Z",
     "shell.execute_reply": "2024-02-23T14:09:23.581569Z"
    },
    "papermill": {
     "duration": 0.029182,
     "end_time": "2024-02-23T14:09:23.584061",
     "exception": false,
     "start_time": "2024-02-23T14:09:23.554879",
     "status": "completed"
    },
    "tags": []
   },
   "outputs": [
    {
     "data": {
      "text/html": [
       "<div>\n",
       "<style scoped>\n",
       "    .dataframe tbody tr th:only-of-type {\n",
       "        vertical-align: middle;\n",
       "    }\n",
       "\n",
       "    .dataframe tbody tr th {\n",
       "        vertical-align: top;\n",
       "    }\n",
       "\n",
       "    .dataframe thead th {\n",
       "        text-align: right;\n",
       "    }\n",
       "</style>\n",
       "<table border=\"1\" class=\"dataframe\">\n",
       "  <thead>\n",
       "    <tr style=\"text-align: right;\">\n",
       "      <th></th>\n",
       "      <th>Product Name</th>\n",
       "      <th>Category</th>\n",
       "      <th>Price</th>\n",
       "    </tr>\n",
       "  </thead>\n",
       "  <tbody>\n",
       "    <tr>\n",
       "      <th>count</th>\n",
       "      <td>50</td>\n",
       "      <td>50</td>\n",
       "      <td>50.000000</td>\n",
       "    </tr>\n",
       "    <tr>\n",
       "      <th>unique</th>\n",
       "      <td>49</td>\n",
       "      <td>48</td>\n",
       "      <td>NaN</td>\n",
       "    </tr>\n",
       "    <tr>\n",
       "      <th>top</th>\n",
       "      <td>end</td>\n",
       "      <td>purpose</td>\n",
       "      <td>NaN</td>\n",
       "    </tr>\n",
       "    <tr>\n",
       "      <th>freq</th>\n",
       "      <td>2</td>\n",
       "      <td>2</td>\n",
       "      <td>NaN</td>\n",
       "    </tr>\n",
       "    <tr>\n",
       "      <th>mean</th>\n",
       "      <td>NaN</td>\n",
       "      <td>NaN</td>\n",
       "      <td>494.131400</td>\n",
       "    </tr>\n",
       "    <tr>\n",
       "      <th>std</th>\n",
       "      <td>NaN</td>\n",
       "      <td>NaN</td>\n",
       "      <td>313.341336</td>\n",
       "    </tr>\n",
       "    <tr>\n",
       "      <th>min</th>\n",
       "      <td>NaN</td>\n",
       "      <td>NaN</td>\n",
       "      <td>21.720000</td>\n",
       "    </tr>\n",
       "    <tr>\n",
       "      <th>25%</th>\n",
       "      <td>NaN</td>\n",
       "      <td>NaN</td>\n",
       "      <td>205.952500</td>\n",
       "    </tr>\n",
       "    <tr>\n",
       "      <th>50%</th>\n",
       "      <td>NaN</td>\n",
       "      <td>NaN</td>\n",
       "      <td>401.215000</td>\n",
       "    </tr>\n",
       "    <tr>\n",
       "      <th>75%</th>\n",
       "      <td>NaN</td>\n",
       "      <td>NaN</td>\n",
       "      <td>813.085000</td>\n",
       "    </tr>\n",
       "    <tr>\n",
       "      <th>max</th>\n",
       "      <td>NaN</td>\n",
       "      <td>NaN</td>\n",
       "      <td>998.250000</td>\n",
       "    </tr>\n",
       "  </tbody>\n",
       "</table>\n",
       "</div>"
      ],
      "text/plain": [
       "       Product Name Category       Price\n",
       "count            50       50   50.000000\n",
       "unique           49       48         NaN\n",
       "top             end  purpose         NaN\n",
       "freq              2        2         NaN\n",
       "mean            NaN      NaN  494.131400\n",
       "std             NaN      NaN  313.341336\n",
       "min             NaN      NaN   21.720000\n",
       "25%             NaN      NaN  205.952500\n",
       "50%             NaN      NaN  401.215000\n",
       "75%             NaN      NaN  813.085000\n",
       "max             NaN      NaN  998.250000"
      ]
     },
     "execution_count": 35,
     "metadata": {},
     "output_type": "execute_result"
    }
   ],
   "source": [
    "product_df.describe(include = \"all\")"
   ]
  },
  {
   "cell_type": "code",
   "execution_count": 36,
   "id": "c696f8ed",
   "metadata": {
    "execution": {
     "iopub.execute_input": "2024-02-23T14:09:23.614173Z",
     "iopub.status.busy": "2024-02-23T14:09:23.613174Z",
     "iopub.status.idle": "2024-02-23T14:09:23.631256Z",
     "shell.execute_reply": "2024-02-23T14:09:23.630302Z"
    },
    "papermill": {
     "duration": 0.034655,
     "end_time": "2024-02-23T14:09:23.633081",
     "exception": false,
     "start_time": "2024-02-23T14:09:23.598426",
     "status": "completed"
    },
    "tags": []
   },
   "outputs": [
    {
     "data": {
      "text/html": [
       "<div>\n",
       "<style scoped>\n",
       "    .dataframe tbody tr th:only-of-type {\n",
       "        vertical-align: middle;\n",
       "    }\n",
       "\n",
       "    .dataframe tbody tr th {\n",
       "        vertical-align: top;\n",
       "    }\n",
       "\n",
       "    .dataframe thead th {\n",
       "        text-align: right;\n",
       "    }\n",
       "</style>\n",
       "<table border=\"1\" class=\"dataframe\">\n",
       "  <thead>\n",
       "    <tr style=\"text-align: right;\">\n",
       "      <th></th>\n",
       "      <th>count</th>\n",
       "      <th>unique</th>\n",
       "      <th>top</th>\n",
       "      <th>freq</th>\n",
       "      <th>mean</th>\n",
       "      <th>std</th>\n",
       "      <th>min</th>\n",
       "      <th>25%</th>\n",
       "      <th>50%</th>\n",
       "      <th>75%</th>\n",
       "      <th>max</th>\n",
       "    </tr>\n",
       "  </thead>\n",
       "  <tbody>\n",
       "    <tr>\n",
       "      <th>Product Name</th>\n",
       "      <td>50</td>\n",
       "      <td>49</td>\n",
       "      <td>end</td>\n",
       "      <td>2</td>\n",
       "      <td>NaN</td>\n",
       "      <td>NaN</td>\n",
       "      <td>NaN</td>\n",
       "      <td>NaN</td>\n",
       "      <td>NaN</td>\n",
       "      <td>NaN</td>\n",
       "      <td>NaN</td>\n",
       "    </tr>\n",
       "    <tr>\n",
       "      <th>Category</th>\n",
       "      <td>50</td>\n",
       "      <td>48</td>\n",
       "      <td>purpose</td>\n",
       "      <td>2</td>\n",
       "      <td>NaN</td>\n",
       "      <td>NaN</td>\n",
       "      <td>NaN</td>\n",
       "      <td>NaN</td>\n",
       "      <td>NaN</td>\n",
       "      <td>NaN</td>\n",
       "      <td>NaN</td>\n",
       "    </tr>\n",
       "    <tr>\n",
       "      <th>Price</th>\n",
       "      <td>50.0</td>\n",
       "      <td>NaN</td>\n",
       "      <td>NaN</td>\n",
       "      <td>NaN</td>\n",
       "      <td>494.1314</td>\n",
       "      <td>313.341336</td>\n",
       "      <td>21.72</td>\n",
       "      <td>205.9525</td>\n",
       "      <td>401.215</td>\n",
       "      <td>813.085</td>\n",
       "      <td>998.25</td>\n",
       "    </tr>\n",
       "  </tbody>\n",
       "</table>\n",
       "</div>"
      ],
      "text/plain": [
       "             count unique      top freq      mean         std    min  \\\n",
       "Product Name    50     49      end    2       NaN         NaN    NaN   \n",
       "Category        50     48  purpose    2       NaN         NaN    NaN   \n",
       "Price         50.0    NaN      NaN  NaN  494.1314  313.341336  21.72   \n",
       "\n",
       "                   25%      50%      75%     max  \n",
       "Product Name       NaN      NaN      NaN     NaN  \n",
       "Category           NaN      NaN      NaN     NaN  \n",
       "Price         205.9525  401.215  813.085  998.25  "
      ]
     },
     "execution_count": 36,
     "metadata": {},
     "output_type": "execute_result"
    }
   ],
   "source": [
    "product_df.describe(include = \"all\").T"
   ]
  },
  {
   "cell_type": "code",
   "execution_count": 37,
   "id": "f515412e",
   "metadata": {
    "execution": {
     "iopub.execute_input": "2024-02-23T14:09:23.663128Z",
     "iopub.status.busy": "2024-02-23T14:09:23.662814Z",
     "iopub.status.idle": "2024-02-23T14:09:24.019978Z",
     "shell.execute_reply": "2024-02-23T14:09:24.018618Z"
    },
    "papermill": {
     "duration": 0.374614,
     "end_time": "2024-02-23T14:09:24.022010",
     "exception": false,
     "start_time": "2024-02-23T14:09:23.647396",
     "status": "completed"
    },
    "tags": []
   },
   "outputs": [
    {
     "data": {
      "text/plain": [
       "<Axes: >"
      ]
     },
     "execution_count": 37,
     "metadata": {},
     "output_type": "execute_result"
    },
    {
     "data": {
      "image/png": "[encoded data removed]",
      "text/plain": [
       "<Figure size 2500x1000 with 2 Axes>"
      ]
     },
     "metadata": {},
     "output_type": "display_data"
    }
   ],
   "source": [
    "msno.matrix(product_df)"
   ]
  },
  {
   "cell_type": "code",
   "execution_count": 38,
   "id": "8d8dbac3",
   "metadata": {
    "execution": {
     "iopub.execute_input": "2024-02-23T14:09:24.051385Z",
     "iopub.status.busy": "2024-02-23T14:09:24.051058Z",
     "iopub.status.idle": "2024-02-23T14:09:26.135750Z",
     "shell.execute_reply": "2024-02-23T14:09:26.134714Z"
    },
    "papermill": {
     "duration": 2.100993,
     "end_time": "2024-02-23T14:09:26.137489",
     "exception": false,
     "start_time": "2024-02-23T14:09:24.036496",
     "status": "completed"
    },
    "tags": []
   },
   "outputs": [
    {
     "data": {
      "image/png": "[encoded data removed]",
      "text/plain": [
       "<Figure size 1000x600 with 1 Axes>"
      ]
     },
     "metadata": {},
     "output_type": "display_data"
    }
   ],
   "source": [
    "# Example: Product price distribution by category\n",
    "plt.figure(figsize=(10, 6))\n",
    "for category in product_df['Category'].unique():\n",
    "    prices = product_df[product_df['Category'] == category]['Price']\n",
    "    plt.hist(prices, bins=20, alpha=0.5, label=category)\n",
    "\n",
    "plt.title('Product Price Distribution by Category')\n",
    "plt.xlabel('Price')\n",
    "plt.ylabel('Frequency')\n",
    "plt.legend()\n",
    "plt.grid(True)\n",
    "plt.show()"
   ]
  },
  {
   "cell_type": "markdown",
   "id": "85c02349",
   "metadata": {
    "papermill": {
     "duration": 0.01491,
     "end_time": "2024-02-23T14:09:26.167650",
     "exception": false,
     "start_time": "2024-02-23T14:09:26.152740",
     "status": "completed"
    },
    "tags": []
   },
   "source": [
    "# Visualizations"
   ]
  },
  {
   "cell_type": "code",
   "execution_count": 39,
   "id": "0d2cb899",
   "metadata": {
    "execution": {
     "iopub.execute_input": "2024-02-23T14:09:26.199614Z",
     "iopub.status.busy": "2024-02-23T14:09:26.199242Z",
     "iopub.status.idle": "2024-02-23T14:09:26.365551Z",
     "shell.execute_reply": "2024-02-23T14:09:26.364422Z"
    },
    "papermill": {
     "duration": 0.184418,
     "end_time": "2024-02-23T14:09:26.367507",
     "exception": false,
     "start_time": "2024-02-23T14:09:26.183089",
     "status": "completed"
    },
    "tags": []
   },
   "outputs": [
    {
     "data": {
      "image/png": "[encoded data removed]",
      "text/plain": [
       "<Figure size 800x600 with 1 Axes>"
      ]
     },
     "metadata": {},
     "output_type": "display_data"
    }
   ],
   "source": [
    "# Additional Analysis and Visualization\n",
    "\n",
    "# Example: Customer Gender Distribution\n",
    "plt.figure(figsize=(8, 6))\n",
    "customer_df['Gender'].value_counts().plot(kind='bar', color=['skyblue', 'pink'])\n",
    "plt.title('Customer Gender Distribution')\n",
    "plt.xlabel('Gender')\n",
    "plt.ylabel('Frequency')\n",
    "plt.grid(True)\n",
    "plt.show()"
   ]
  },
  {
   "cell_type": "code",
   "execution_count": 40,
   "id": "490dbc74",
   "metadata": {
    "execution": {
     "iopub.execute_input": "2024-02-23T14:09:26.399776Z",
     "iopub.status.busy": "2024-02-23T14:09:26.399446Z",
     "iopub.status.idle": "2024-02-23T14:09:26.617742Z",
     "shell.execute_reply": "2024-02-23T14:09:26.616619Z"
    },
    "papermill": {
     "duration": 0.236999,
     "end_time": "2024-02-23T14:09:26.619918",
     "exception": false,
     "start_time": "2024-02-23T14:09:26.382919",
     "status": "completed"
    },
    "tags": []
   },
   "outputs": [
    {
     "name": "stderr",
     "output_type": "stream",
     "text": [
      "/tmp/ipykernel_18/2800054823.py:3: FutureWarning: 'M' is deprecated and will be removed in a future version, please use 'ME' instead.\n",
      "  monthly_avg_order_value = sales_df.resample('M')['Total Price'].mean()\n"
     ]
    },
    {
     "data": {
      "image/png": "[encoded data removed]",
      "text/plain": [
       "<Figure size 1000x600 with 1 Axes>"
      ]
     },
     "metadata": {},
     "output_type": "display_data"
    }
   ],
   "source": [
    "# Example: Customer Purchase Behavior - Average Order Value Over Time\n",
    "sales_df['Total Price'] = sales_df['Quantity'] * sales_df['Price']\n",
    "monthly_avg_order_value = sales_df.resample('M')['Total Price'].mean()\n",
    "\n",
    "plt.figure(figsize=(10, 6))\n",
    "plt.plot(monthly_avg_order_value.index, monthly_avg_order_value.values, marker='o', linestyle='-')\n",
    "plt.title('Average Order Value Over Time')\n",
    "plt.xlabel('Date')\n",
    "plt.ylabel('Average Order Value')\n",
    "plt.grid(True)\n",
    "plt.show()"
   ]
  },
  {
   "cell_type": "code",
   "execution_count": 41,
   "id": "d870b66f",
   "metadata": {
    "execution": {
     "iopub.execute_input": "2024-02-23T14:09:26.653103Z",
     "iopub.status.busy": "2024-02-23T14:09:26.652794Z",
     "iopub.status.idle": "2024-02-23T14:09:26.666836Z",
     "shell.execute_reply": "2024-02-23T14:09:26.665848Z"
    },
    "papermill": {
     "duration": 0.03287,
     "end_time": "2024-02-23T14:09:26.668758",
     "exception": false,
     "start_time": "2024-02-23T14:09:26.635888",
     "status": "completed"
    },
    "tags": []
   },
   "outputs": [],
   "source": [
    "# Example: Market Basket Analysis - Association Rules\n",
    "from mlxtend.frequent_patterns import apriori\n",
    "from mlxtend.frequent_patterns import association_rules"
   ]
  },
  {
   "cell_type": "markdown",
   "id": "a92faa63",
   "metadata": {
    "papermill": {
     "duration": 0.015193,
     "end_time": "2024-02-23T14:09:26.699151",
     "exception": false,
     "start_time": "2024-02-23T14:09:26.683958",
     "status": "completed"
    },
    "tags": []
   },
   "source": [
    "# Sincerely, Dr. Eslam Fouad."
   ]
  }
 ],
 "metadata": {
  "kaggle": {
   "accelerator": "none",
   "dataSources": [
    {
     "datasetId": 4484800,
     "sourceId": 7685764,
     "sourceType": "datasetVersion"
    }
   ],
   "dockerImageVersionId": 30646,
   "isGpuEnabled": false,
   "isInternetEnabled": true,
   "language": "python",
   "sourceType": "notebook"
  },
  "kernelspec": {
   "display_name": "Python 3",
   "language": "python",
   "name": "python3"
  },
  "language_info": {
   "codemirror_mode": {
    "name": "ipython",
    "version": 3
   },
   "file_extension": ".py",
   "mimetype": "text/x-python",
   "name": "python",
   "nbconvert_exporter": "python",
   "pygments_lexer": "ipython3",
   "version": "3.10.13"
  },
  "papermill": {
   "default_parameters": {},
   "duration": 23.807329,
   "end_time": "2024-02-23T14:09:27.433702",
   "environment_variables": {},
   "exception": null,
   "input_path": "__notebook__.ipynb",
   "output_path": "__notebook__.ipynb",
   "parameters": {},
   "start_time": "2024-02-23T14:09:03.626373",
   "version": "2.5.0"
  }
 },
 "nbformat": 4,
 "nbformat_minor": 5
}
